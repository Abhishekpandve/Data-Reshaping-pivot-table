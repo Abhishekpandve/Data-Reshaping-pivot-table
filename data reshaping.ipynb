{
 "cells": [
  {
   "cell_type": "markdown",
   "metadata": {},
   "source": [
    "# Before you start :\n",
    "   - These exercises are related to the Pivot table and correlation lessons.\n",
    "   - Keep in mind that you need to use some of the functions you learned in the previous lessons.\n",
    "   - All datasets are provided in the `your-code` folder of this lab.\n",
    "   - Elaborate your codes and outputs as much as you can.\n",
    "   - Try your best to answer the questions and complete the tasks and most importantly enjoy the process!!!"
   ]
  },
  {
   "cell_type": "markdown",
   "metadata": {},
   "source": [
    "#### Import all the libraries that are necessary."
   ]
  },
  {
   "cell_type": "code",
   "execution_count": 1,
   "metadata": {},
   "outputs": [],
   "source": [
    "# your answer here\n",
    "import pandas as pd \n",
    "import numpy as np   \n",
    "import matplotlib.pyplot as plt \n",
    "import seaborn as sns\n"
   ]
  },
  {
   "cell_type": "markdown",
   "metadata": {},
   "source": [
    "#### Open the ` Employee.csv` file and name your dataset `employee`."
   ]
  },
  {
   "cell_type": "code",
   "execution_count": 2,
   "metadata": {},
   "outputs": [],
   "source": [
    "# your answer here\n",
    "employee = pd.read_csv('Employee.csv')\n"
   ]
  },
  {
   "cell_type": "markdown",
   "metadata": {},
   "source": [
    "#### What's the mean salary by department?\n",
    "Hint : There are 2 ways to do it - one way is with groupby and the other way is with pivot tables. Do it both ways. \n"
   ]
  },
  {
   "cell_type": "code",
   "execution_count": 3,
   "metadata": {},
   "outputs": [
    {
     "name": "stdout",
     "output_type": "stream",
     "text": [
      "Department\n",
      "HR       45.00\n",
      "IT       48.75\n",
      "Sales    55.00\n",
      "Name: Salary, dtype: float64\n"
     ]
    }
   ],
   "source": [
    "# Method 1\n",
    "# your answer here\n",
    "mean_salary_by_department_groupby = employee.groupby('Department')['Salary'].mean()\n",
    "\n",
    "print(mean_salary_by_department_groupby)\n"
   ]
  },
  {
   "cell_type": "markdown",
   "metadata": {},
   "source": [
    "#### We want now to group the data by more than one column. Use Pandas pivot table function to select the mean salary by department and title."
   ]
  },
  {
   "cell_type": "code",
   "execution_count": 11,
   "metadata": {},
   "outputs": [
    {
     "name": "stdout",
     "output_type": "stream",
     "text": [
      "Years         1     2     3     4     7     8\n",
      "Title                                        \n",
      "VP          NaN   NaN   NaN   NaN   NaN  70.0\n",
      "analyst    35.0  30.0   NaN  35.0   NaN   NaN\n",
      "associate   NaN  55.0  55.0   NaN  60.0   NaN\n"
     ]
    }
   ],
   "source": [
    "# Method 2\n",
    "# your answer here\n",
    "display = pd.pivot_table(employee, values='Salary', index='Department', aggfunc='mean')\n",
    "\n",
    "print(pivot_table)\n"
   ]
  },
  {
   "cell_type": "code",
   "execution_count": null,
   "metadata": {},
   "outputs": [],
   "source": [
    "# your answer here\n"
   ]
  },
  {
   "cell_type": "markdown",
   "metadata": {},
   "source": [
    "#### We want to display the number of years of work experience and the salary for each Title. Add Years as a column in your pivot table.\n",
    "*Hint: Use Pandas doc(see References in README.md) to explore the pivot_table() arguments*"
   ]
  },
  {
   "cell_type": "code",
   "execution_count": 10,
   "metadata": {},
   "outputs": [
    {
     "data": {
      "text/html": [
       "<div>\n",
       "<style scoped>\n",
       "    .dataframe tbody tr th:only-of-type {\n",
       "        vertical-align: middle;\n",
       "    }\n",
       "\n",
       "    .dataframe tbody tr th {\n",
       "        vertical-align: top;\n",
       "    }\n",
       "\n",
       "    .dataframe thead th {\n",
       "        text-align: right;\n",
       "    }\n",
       "</style>\n",
       "<table border=\"1\" class=\"dataframe\">\n",
       "  <thead>\n",
       "    <tr style=\"text-align: right;\">\n",
       "      <th></th>\n",
       "      <th>Salary</th>\n",
       "    </tr>\n",
       "    <tr>\n",
       "      <th>Department</th>\n",
       "      <th></th>\n",
       "    </tr>\n",
       "  </thead>\n",
       "  <tbody>\n",
       "    <tr>\n",
       "      <th>HR</th>\n",
       "      <td>45.00</td>\n",
       "    </tr>\n",
       "    <tr>\n",
       "      <th>IT</th>\n",
       "      <td>48.75</td>\n",
       "    </tr>\n",
       "    <tr>\n",
       "      <th>Sales</th>\n",
       "      <td>55.00</td>\n",
       "    </tr>\n",
       "  </tbody>\n",
       "</table>\n",
       "</div>"
      ],
      "text/plain": [
       "            Salary\n",
       "Department        \n",
       "HR           45.00\n",
       "IT           48.75\n",
       "Sales        55.00"
      ]
     },
     "metadata": {},
     "output_type": "display_data"
    },
    {
     "name": "stdout",
     "output_type": "stream",
     "text": [
      "Years         1     2     3     4     7     8\n",
      "Title                                        \n",
      "VP          NaN   NaN   NaN   NaN   NaN  70.0\n",
      "analyst    35.0  30.0   NaN  35.0   NaN   NaN\n",
      "associate   NaN  55.0  55.0   NaN  60.0   NaN\n"
     ]
    }
   ],
   "source": [
    "# your answer here\n",
    "\n",
    "#pivot_table = pd.pivot_table(employee, values='Salary', index='Title', columns='Years', aggfunc='mean')\n",
    "display(employee.pivot_table(index='Department', values='Salary', aggfunc='mean'))\n",
    "\n",
    "print(pivot_table)\n"
   ]
  },
  {
   "cell_type": "markdown",
   "metadata": {},
   "source": [
    "#### We want to know the information about the mean salary and number of employees in each department and for each job title."
   ]
  },
  {
   "cell_type": "code",
   "execution_count": 14,
   "metadata": {},
   "outputs": [
    {
     "name": "stdout",
     "output_type": "stream",
     "text": [
      "  Department      Title  Median Salary  Min Salary  Max Salary  \\\n",
      "0         HR         VP           70.0          70          70   \n",
      "1         HR    analyst           32.5          30          35   \n",
      "2         IT         VP           70.0          70          70   \n",
      "3         IT    analyst           32.5          30          35   \n",
      "4         IT  associate           60.0          60          60   \n",
      "5      Sales  associate           55.0          55          55   \n",
      "\n",
      "   Standard Deviation  \n",
      "0                 NaN  \n",
      "1            3.535534  \n",
      "2                 NaN  \n",
      "3            3.535534  \n",
      "4                 NaN  \n",
      "5            0.000000  \n"
     ]
    }
   ],
   "source": [
    "# your answer here\n",
    "\n",
    "import pandas as pd\n",
    "\n",
    "\n",
    "employee = pd.read_csv('Employee.csv')\n",
    "\n",
    "# Group and aggregate data\n",
    "result = employee.groupby(['Department', 'Title']).agg({\n",
    "    'Salary': ['median', 'min', 'max', 'std']\n",
    "}).reset_index()\n",
    "\n",
    "# Rename the columns for clarity\n",
    "result.columns = ['Department', 'Title', 'Median Salary', 'Min Salary', 'Max Salary', 'Standard Deviation']\n",
    "\n",
    "# Display the result\n",
    "print(result)\n",
    "\n"
   ]
  },
  {
   "cell_type": "markdown",
   "metadata": {},
   "source": [
    "#### We want to know for each department and for each job title the Salary's median, minimum, maximum and standard deviation. Comment your results."
   ]
  },
  {
   "cell_type": "code",
   "execution_count": 17,
   "metadata": {},
   "outputs": [
    {
     "name": "stdout",
     "output_type": "stream",
     "text": [
      "  Department      Title  Median Salary  Min Salary  Max Salary  \\\n",
      "0         HR         VP           70.0          70          70   \n",
      "1         HR    analyst           32.5          30          35   \n",
      "2         IT         VP           70.0          70          70   \n",
      "3         IT    analyst           32.5          30          35   \n",
      "4         IT  associate           60.0          60          60   \n",
      "5      Sales  associate           55.0          55          55   \n",
      "\n",
      "   Standard Deviation  \n",
      "0                 NaN  \n",
      "1            3.535534  \n",
      "2                 NaN  \n",
      "3            3.535534  \n",
      "4                 NaN  \n",
      "5            0.000000  \n"
     ]
    }
   ],
   "source": [
    "# your answer hereimport pandas as pd\n",
    "\n",
    "\n",
    "\n",
    "import pandas as pd\n",
    "\n",
    "employee = pd.read_csv('Employee.csv')\n",
    "\n",
    "# Group and aggregate data\n",
    "result = employee.groupby(['Department', 'Title']).agg({\n",
    "    'Salary': ['median', 'min', 'max', 'std']\n",
    "}).reset_index()\n",
    "\n",
    "# Rename the columns for clarity\n",
    "result.columns = ['Department', 'Title', 'Median Salary', 'Min Salary', 'Max Salary', 'Standard Deviation']\n",
    "\n",
    "# Display the result\n",
    "print(result)\n",
    "\n",
    "\n"
   ]
  },
  {
   "cell_type": "code",
   "execution_count": null,
   "metadata": {},
   "outputs": [],
   "source": [
    "#### Based on your comments, fill the missing values with an appropriate value."
   ]
  },
  {
   "cell_type": "code",
   "execution_count": 25,
   "metadata": {},
   "outputs": [
    {
     "name": "stdout",
     "output_type": "stream",
     "text": [
      "Title       analyst  associate\n",
      "Department                    \n",
      "HR             32.5        NaN\n",
      "IT             32.5       60.0\n"
     ]
    }
   ],
   "source": [
    "# your answer here\n",
    "employee = pd.read_csv('Employee.csv')\n",
    "def fill_missing(group):\n",
    "    mean_salary = group['Salary'].mean()\n",
    "    group['Salary'].fillna(mean_salary, inplace=True)\n",
    "    return group\n",
    "\n",
    "# Apply the custom function to fill missing values\n",
    "df = df.groupby(['Department', 'Title']).apply(fill_missing)\n",
    "\n",
    "display = pd.pivot_table(df, values='Salary', index='Department', columns='Title', aggfunc='mean')\n",
    "\n",
    "\n",
    "print(pivot_table)\n",
    "\n",
    "\n",
    "\n"
   ]
  },
  {
   "cell_type": "markdown",
   "metadata": {},
   "source": [
    "#### The stake holders want to know for each department the number of employees and how much money is spend on salaries. Could you provide that information? "
   ]
  },
  {
   "cell_type": "code",
   "execution_count": 18,
   "metadata": {},
   "outputs": [
    {
     "name": "stdout",
     "output_type": "stream",
     "text": [
      "  Department  Number of Employees  Total Salary Expenses\n",
      "0         HR                    3                    135\n",
      "1         IT                    4                    195\n",
      "2      Sales                    2                    110\n"
     ]
    }
   ],
   "source": [
    "# your answer here\n",
    "employee = pd.read_csv('Employee.csv')\n",
    "\n",
    "employee_count = employee.groupby('Department')['Name'].count().reset_index()\n",
    "employee_count.columns = ['Department', 'Number of Employees']\n",
    "\n",
    "\n",
    "salary_expenses = employee.groupby('Department')['Salary'].sum().reset_index()\n",
    "salary_expenses.columns = ['Department', 'Total Salary Expenses']\n",
    "\n",
    "\n",
    "result = pd.merge(employee_count, salary_expenses, on='Department')\n",
    "\n",
    "# Display the result\n",
    "print(result)\n"
   ]
  },
  {
   "cell_type": "markdown",
   "metadata": {},
   "source": [
    "#### For each Department and Title, we want to know the the total years of work experience and the mean salary."
   ]
  },
  {
   "cell_type": "code",
   "execution_count": 19,
   "metadata": {},
   "outputs": [
    {
     "name": "stdout",
     "output_type": "stream",
     "text": [
      "  Department      Title  Total Years of Work  Mean Salary\n",
      "0         HR         VP                    8         70.0\n",
      "1         HR    analyst                    6         32.5\n",
      "2         IT         VP                    8         70.0\n",
      "3         IT    analyst                    3         32.5\n",
      "4         IT  associate                    7         60.0\n",
      "5      Sales  associate                    5         55.0\n"
     ]
    }
   ],
   "source": [
    "# your answer here\n",
    "employee = pd.read_csv('Employee.csv')\n",
    "\n",
    "result = employee.groupby(['Department', 'Title']).agg({\n",
    "    'Years': 'sum',\n",
    "    'Salary': 'mean'\n",
    "}).reset_index()\n",
    "\n",
    "result.columns = ['Department', 'Title', 'Total Years of Work', 'Mean Salary']\n",
    "\n",
    "# Display the result\n",
    "print(result)"
   ]
  },
  {
   "cell_type": "markdown",
   "metadata": {},
   "source": [
    "### Bonus\n",
    "\n",
    "#### We now want to compute the mean salary after removing the maxima for each Department. Create the appropriate pivot table.\n",
    "\n",
    "Hint: Write a custom function."
   ]
  },
  {
   "cell_type": "code",
   "execution_count": 23,
   "metadata": {},
   "outputs": [
    {
     "name": "stdout",
     "output_type": "stream",
     "text": [
      "Title       analyst  associate\n",
      "Department                    \n",
      "HR             32.5        NaN\n",
      "IT             32.5       60.0\n"
     ]
    }
   ],
   "source": [
    "# your answer here\n",
    "employee = pd.read_csv('Employee.csv')\n",
    "def remove_max_salary(group):\n",
    "    max_salary = group['Salary'].max()\n",
    "    group['Salary'].replace(max_salary, float('nan'), inplace=True)\n",
    "    return group\n",
    "\n",
    "# Apply the custom function to remove maximum salaries\n",
    "employee = employee.groupby('Department').apply(remove_max_salary)\n",
    "\n",
    "# Create a pivot table to compute the mean salary\n",
    "display = pd.pivot_table(df, values='Salary', index='Department', columns='Title', aggfunc='mean')\n",
    "\n",
    "\n",
    "print(pivot_table)\n"
   ]
  },
  {
   "cell_type": "code",
   "execution_count": null,
   "metadata": {},
   "outputs": [],
   "source": []
  }
 ],
 "metadata": {
  "anaconda-cloud": {},
  "kernelspec": {
   "display_name": "Python 3",
   "language": "python",
   "name": "python3"
  },
  "language_info": {
   "codemirror_mode": {
    "name": "ipython",
    "version": 3
   },
   "file_extension": ".py",
   "mimetype": "text/x-python",
   "name": "python",
   "nbconvert_exporter": "python",
   "pygments_lexer": "ipython3",
   "version": "3.8.5"
  },
  "toc": {
   "base_numbering": 1,
   "nav_menu": {},
   "number_sections": false,
   "sideBar": true,
   "skip_h1_title": false,
   "title_cell": "Table of Contents",
   "title_sidebar": "Contents",
   "toc_cell": false,
   "toc_position": {},
   "toc_section_display": true,
   "toc_window_display": false
  }
 },
 "nbformat": 4,
 "nbformat_minor": 1
}
